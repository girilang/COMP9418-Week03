{
  "cells": [
    {
      "cell_type": "markdown",
      "metadata": {
        "id": "pcCBqTqXmXBp"
      },
      "source": [
        "[![Open In Colab](https://colab.research.google.com/assets/colab-badge.svg)](https://colab.research.google.com/github/UNSW-COMP9418/Week03/blob/main/COMP9418_W03_Bayesian_Networks.ipynb)\n",
        "\n",
        "\n",
        "# Bayesian Networks\n",
        "**COMP9418 W03 Tutorial**\n",
        "\n",
        "- Instructor: Gustavo Batista\n",
        "- School of Computer Science and Engineering, UNSW Sydney\n",
        "- Notebook designed by Gustavo Batista and Jeremy Gillen from a notebook developed by Daniel Mackinlay and Edwin V. Bonilla\n",
        "- Last update 22nd September 2022\n",
        "$$\n",
        "% macros\n",
        "\\newcommand{\\indep}{\\perp \\!\\!\\!\\perp}\n",
        "$$"
      ]
    },
    {
      "cell_type": "markdown",
      "metadata": {
        "id": "Bjj4J4d8mXBr"
      },
      "source": [
        "In this week's tutorial, we will start exploring representation and inference with Bayesian networks."
      ]
    },
    {
      "cell_type": "markdown",
      "metadata": {
        "id": "OpbYk2rUmXBs"
      },
      "source": [
        "## Technical prerequisites\n",
        "\n",
        "You will need certain packages installed to run this notebook.\n",
        "\n",
        "If you are using Google Colab or ``conda``'s default\n",
        "[full installation](https://conda.io/docs/install/full.html),\n",
        "these requirements should all be satisfied already.\n",
        "\n",
        "If you are using ``virtualenv`` or other native package management,\n",
        "you may need to run this command:\n",
        "\n",
        "```python\n",
        "pip3 install pandas\n",
        "```\n",
        "\n",
        "To render a visualization of some graphical models, you also need to install [Graphviz](http://www.graphviz.org/download). We have already used this library in Tutorial 1, thus, you should have it installed. If you do not have it and use the conda installation, then use the command ```conda install python-graphviz```. \n",
        "\n",
        "You will also need to download the preprocessed `icu_diag.csv` data set (see data file for this tutorial in WebCMS3) and put it in the same folder as this notebook.\n",
        "\n",
        "Once we have done all that, we import some useful modules for later use."
      ]
    },
    {
      "cell_type": "code",
      "execution_count": 1,
      "metadata": {
        "id": "zKWC61cgmXBu"
      },
      "outputs": [],
      "source": [
        "# Necessary libraries\n",
        "import numpy as np\n",
        "import pandas as pd\n",
        "\n",
        "# combinatorics\n",
        "from itertools import product"
      ]
    },
    {
      "cell_type": "markdown",
      "metadata": {
        "id": "9hPCDdghmXBv"
      },
      "source": [
        "Import classes from `DiscreteFactors.py` and `Graph.py` developed in previous tutorials. If you are using Colab, upload the files by clicking the \"files\" \n",
        "![File](https://raw.githubusercontent.com/UNSW-COMP9418/Week03/main/img/file.png) \n",
        "button on the left side of the page, then the \"upload files\" \n",
        "![Upload](https://raw.githubusercontent.com/UNSW-COMP9418/Week03/main/img/upload.png)\n",
        "button. Then select the relevant python files.\n",
        "\n",
        "At this point, you should have your versions of these libraries and we strongly recommend you use them. In the case you want to use our implementation, you can run the next cell to download the files from GitHub."
      ]
    },
    {
      "cell_type": "code",
      "execution_count": 2,
      "metadata": {
        "colab": {
          "base_uri": "https://localhost:8080/"
        },
        "id": "iO-RyycpmXBw",
        "outputId": "7921347c-b2a2-49f1-cab9-656b63710a90"
      },
      "outputs": [],
      "source": [
        "# Only run this cell if you do not want to use your libraries and\n",
        "# prefer to download our implementation from GitHub\n",
        "\n",
        "#!wget 'https://raw.githubusercontent.com/UNSW-COMP9418/Week03/main/DiscreteFactors.py'\n",
        "#!wget 'https://raw.githubusercontent.com/UNSW-COMP9418/Week03/main/Graph.py'"
      ]
    },
    {
      "cell_type": "code",
      "execution_count": 3,
      "metadata": {
        "id": "IlXXXMprmXBx"
      },
      "outputs": [],
      "source": [
        "from DiscreteFactors import Factor\n",
        "from Graph import Graph"
      ]
    },
    {
      "cell_type": "markdown",
      "metadata": {
        "id": "CbqG12m0mXBx"
      },
      "source": [
        "\n",
        "## `pandas`\n",
        "\n",
        "We will be using an external library for the loading tabular data: `pandas.DataFrame` is somewhat similar to `R`. \n",
        "If you wish to know more about that, [check out the Pandas intro](https://pandas.pydata.org/pandas-docs/stable/user_guide/10min.html). We will mostly be ignoring this library, except to load data and display it in nice tables."
      ]
    },
    {
      "cell_type": "markdown",
      "metadata": {
        "id": "upZU75f8mXBy"
      },
      "source": [
        "\n",
        "\n",
        "# The Data\n",
        "\n",
        "## Loading the data\n",
        "\n",
        "These data correspond to the problem in the theory part of the tutorial for this week, i.e. the Bayesian network for medical diagnosis in an intensive care unit (ICU). The data are in `csv` format.\n",
        "We can load this in several ways in python, but the most convenient for this purpose \n",
        "is to load it as a `DataFrame` in `pandas`."
      ]
    },
    {
      "cell_type": "code",
      "execution_count": 4,
      "metadata": {
        "colab": {
          "base_uri": "https://localhost:8080/"
        },
        "id": "7AZrCfYPmXBy",
        "outputId": "8dbce07e-1e18-4765-b992-2c381bf7652b"
      },
      "outputs": [
        {
          "name": "stdout",
          "output_type": "stream",
          "text": [
            "--2022-09-29 22:03:39--  https://raw.githubusercontent.com/UNSW-COMP9418/Week03/main/icu_diag.csv\n",
            "Resolving raw.githubusercontent.com (raw.githubusercontent.com)... 185.199.108.133, 185.199.111.133, 185.199.110.133, ...\n",
            "Connecting to raw.githubusercontent.com (raw.githubusercontent.com)|185.199.108.133|:443... connected.\n",
            "HTTP request sent, awaiting response... 200 OK\n",
            "Length: 18018 (18K) [text/plain]\n",
            "Saving to: ‘icu_diag.csv.1’\n",
            "\n",
            "icu_diag.csv.1      100%[===================>]  17.60K  --.-KB/s    in 0.02s   \n",
            "\n",
            "2022-09-29 22:03:40 (940 KB/s) - ‘icu_diag.csv.1’ saved [18018/18018]\n",
            "\n"
          ]
        }
      ],
      "source": [
        "# Download data\n",
        "!wget 'https://raw.githubusercontent.com/UNSW-COMP9418/Week03/main/icu_diag.csv'\n",
        "\n",
        "data = pd.read_csv(open('icu_diag.csv'))"
      ]
    },
    {
      "cell_type": "markdown",
      "metadata": {
        "id": "5i1i2y07mXBz"
      },
      "source": [
        "The loaded data frame is an attribute-value table. It contais 1000 rows (examples), each one correponding to a patient in the intensive care unit. Each row has nine colums (attributes). Each column correponds to one variable in the Bayesian network. The next figure illustrates the network.\n",
        "\n",
        "![ICU Graph](https://raw.githubusercontent.com/UNSW-COMP9418/Week03/main/img/ICU_graph.png \"Graph exercise\")\n",
        "\n",
        "We can use the command ``data.head()`` to display the first $n$ rows (default = 5) of the data frame."
      ]
    },
    {
      "cell_type": "code",
      "execution_count": 5,
      "metadata": {
        "colab": {
          "base_uri": "https://localhost:8080/",
          "height": 204
        },
        "id": "0-d84HpemXBz",
        "outputId": "b23fcc18-c4f3-4caa-dfa7-1b0e23e19629",
        "scrolled": true
      },
      "outputs": [
        {
          "data": {
            "text/html": [
              "<div>\n",
              "<style scoped>\n",
              "    .dataframe tbody tr th:only-of-type {\n",
              "        vertical-align: middle;\n",
              "    }\n",
              "\n",
              "    .dataframe tbody tr th {\n",
              "        vertical-align: top;\n",
              "    }\n",
              "\n",
              "    .dataframe thead th {\n",
              "        text-align: right;\n",
              "    }\n",
              "</style>\n",
              "<table border=\"1\" class=\"dataframe\">\n",
              "  <thead>\n",
              "    <tr style=\"text-align: right;\">\n",
              "      <th></th>\n",
              "      <th>A</th>\n",
              "      <th>C</th>\n",
              "      <th>B</th>\n",
              "      <th>H</th>\n",
              "      <th>L</th>\n",
              "      <th>O</th>\n",
              "      <th>S</th>\n",
              "      <th>T</th>\n",
              "      <th>V</th>\n",
              "    </tr>\n",
              "  </thead>\n",
              "  <tbody>\n",
              "    <tr>\n",
              "      <th>0</th>\n",
              "      <td>0</td>\n",
              "      <td>0</td>\n",
              "      <td>1</td>\n",
              "      <td>1</td>\n",
              "      <td>0</td>\n",
              "      <td>0</td>\n",
              "      <td>1</td>\n",
              "      <td>1</td>\n",
              "      <td>0</td>\n",
              "    </tr>\n",
              "    <tr>\n",
              "      <th>1</th>\n",
              "      <td>0</td>\n",
              "      <td>1</td>\n",
              "      <td>2</td>\n",
              "      <td>0</td>\n",
              "      <td>0</td>\n",
              "      <td>2</td>\n",
              "      <td>1</td>\n",
              "      <td>1</td>\n",
              "      <td>1</td>\n",
              "    </tr>\n",
              "    <tr>\n",
              "      <th>2</th>\n",
              "      <td>0</td>\n",
              "      <td>2</td>\n",
              "      <td>2</td>\n",
              "      <td>0</td>\n",
              "      <td>0</td>\n",
              "      <td>2</td>\n",
              "      <td>1</td>\n",
              "      <td>1</td>\n",
              "      <td>1</td>\n",
              "    </tr>\n",
              "    <tr>\n",
              "      <th>3</th>\n",
              "      <td>0</td>\n",
              "      <td>2</td>\n",
              "      <td>0</td>\n",
              "      <td>0</td>\n",
              "      <td>0</td>\n",
              "      <td>2</td>\n",
              "      <td>1</td>\n",
              "      <td>0</td>\n",
              "      <td>1</td>\n",
              "    </tr>\n",
              "    <tr>\n",
              "      <th>4</th>\n",
              "      <td>0</td>\n",
              "      <td>1</td>\n",
              "      <td>2</td>\n",
              "      <td>0</td>\n",
              "      <td>0</td>\n",
              "      <td>2</td>\n",
              "      <td>1</td>\n",
              "      <td>1</td>\n",
              "      <td>1</td>\n",
              "    </tr>\n",
              "  </tbody>\n",
              "</table>\n",
              "</div>"
            ],
            "text/plain": [
              "   A  C  B  H  L  O  S  T  V\n",
              "0  0  0  1  1  0  0  1  1  0\n",
              "1  0  1  2  0  0  2  1  1  1\n",
              "2  0  2  2  0  0  2  1  1  1\n",
              "3  0  2  0  0  0  2  1  0  1\n",
              "4  0  1  2  0  0  2  1  1  1"
            ]
          },
          "execution_count": 5,
          "metadata": {},
          "output_type": "execute_result"
        }
      ],
      "source": [
        "data.head()"
      ]
    },
    {
      "cell_type": "markdown",
      "metadata": {
        "id": "5-39GbzMmXB0"
      },
      "source": [
        "The values in the cariables are encoded as follows:\n",
        "\n",
        "| Variable  |  Value  |  Coding |\n",
        "| :-------: | :-----: | ------: |\n",
        "| H, L, A   |  False  | 0       |\n",
        "| H, L, A   |  True   | 1       |\n",
        "| V, S, T   |  Low    | 0       |\n",
        "| V, S, T   |  High   | 1       |\n",
        "| C, O, B   |  Low    | 0       |\n",
        "| C, O, B   |  Medium | 1       |\n",
        "| C, O, B   |  High   | 2       |\n",
        "\n",
        "For now, we will keep this encoding as provided in the data file. However, replacing the numerical codes by symbolic labels may improve the results readability. To keep this notebook short, we will leave this extension as an exercise."
      ]
    },
    {
      "cell_type": "markdown",
      "metadata": {
        "id": "lV8b1BMPmXB1"
      },
      "source": [
        "# Representing a Bayesian Network"
      ]
    },
    {
      "cell_type": "markdown",
      "metadata": {
        "id": "-6m1r5iVmXB2"
      },
      "source": [
        "### Exercise\n",
        "\n",
        "Let's first represent the graph using the Graph object discussed in the Week 1 tutorial. We created a stub for you."
      ]
    },
    {
      "cell_type": "code",
      "execution_count": 6,
      "metadata": {
        "id": "bsR12UCsmXB2"
      },
      "outputs": [],
      "source": [
        "graph = Graph({\n",
        "    'L': ['S', 'V'],\n",
        "    'H': ['S', 'V'],\n",
        "    'S': ['O'],\n",
        "    'V': ['O', 'C'],\n",
        "    'O': ['B'],\n",
        "    'A': ['T'],\n",
        "    'T': ['B'],\n",
        "    'C': [],\n",
        "    'B': []\n",
        "\n",
        "})"
      ]
    },
    {
      "cell_type": "markdown",
      "metadata": {
        "id": "QXeB2Ck_mXB4"
      },
      "source": [
        "Let's use GraphViz to display the graph representation, so we can assure we did not forget any edges"
      ]
    },
    {
      "cell_type": "code",
      "execution_count": 7,
      "metadata": {
        "colab": {
          "base_uri": "https://localhost:8080/",
          "height": 328
        },
        "id": "bRLXTHifmXB4",
        "outputId": "6f65cb98-dde2-4010-a1f3-c648ed2bf878"
      },
      "outputs": [
        {
          "data": {
            "image/svg+xml": "<?xml version=\"1.0\" encoding=\"UTF-8\" standalone=\"no\"?>\n<!DOCTYPE svg PUBLIC \"-//W3C//DTD SVG 1.1//EN\"\n \"http://www.w3.org/Graphics/SVG/1.1/DTD/svg11.dtd\">\n<!-- Generated by graphviz version 6.0.1 (20220911.1526)\n -->\n<!-- Pages: 1 -->\n<svg width=\"186pt\" height=\"230pt\"\n viewBox=\"0.00 0.00 186.01 230.02\" xmlns=\"http://www.w3.org/2000/svg\" xmlns:xlink=\"http://www.w3.org/1999/xlink\">\n<g id=\"graph0\" class=\"graph\" transform=\"scale(1 1) rotate(0) translate(4 226.02)\">\n<polygon fill=\"white\" stroke=\"none\" points=\"-4,4 -4,-226.02 182.01,-226.02 182.01,4 -4,4\"/>\n<!-- L -->\n<g id=\"node1\" class=\"node\">\n<title>L</title>\n<ellipse fill=\"none\" stroke=\"black\" cx=\"27\" cy=\"-204.02\" rx=\"27\" ry=\"18\"/>\n<text text-anchor=\"middle\" x=\"27\" y=\"-200.32\" font-family=\"Times,serif\" font-size=\"14.00\">L</text>\n</g>\n<!-- S -->\n<g id=\"node3\" class=\"node\">\n<title>S</title>\n<ellipse fill=\"none\" stroke=\"black\" cx=\"89.01\" cy=\"-142.01\" rx=\"27\" ry=\"18\"/>\n<text text-anchor=\"middle\" x=\"89.01\" y=\"-138.31\" font-family=\"Times,serif\" font-size=\"14.00\">S</text>\n</g>\n<!-- L&#45;&gt;S -->\n<g id=\"edge1\" class=\"edge\">\n<title>L&#45;&gt;S</title>\n<path fill=\"none\" stroke=\"black\" d=\"M42.01,-189.01C49.36,-181.65 58.37,-172.65 66.53,-164.49\"/>\n<polygon fill=\"black\" stroke=\"black\" points=\"69.11,-166.86 73.7,-157.31 64.16,-161.91 69.11,-166.86\"/>\n</g>\n<!-- V -->\n<g id=\"node4\" class=\"node\">\n<title>V</title>\n<ellipse fill=\"none\" stroke=\"black\" cx=\"27\" cy=\"-142.01\" rx=\"27\" ry=\"18\"/>\n<text text-anchor=\"middle\" x=\"27\" y=\"-138.31\" font-family=\"Times,serif\" font-size=\"14.00\">V</text>\n</g>\n<!-- L&#45;&gt;V -->\n<g id=\"edge2\" class=\"edge\">\n<title>L&#45;&gt;V</title>\n<path fill=\"none\" stroke=\"black\" d=\"M27,-185.75C27,-181 27,-175.76 27,-170.62\"/>\n<polygon fill=\"black\" stroke=\"black\" points=\"30.5,-170.36 27,-160.36 23.5,-170.36 30.5,-170.36\"/>\n</g>\n<!-- H -->\n<g id=\"node2\" class=\"node\">\n<title>H</title>\n<ellipse fill=\"none\" stroke=\"black\" cx=\"89.01\" cy=\"-204.02\" rx=\"27\" ry=\"18\"/>\n<text text-anchor=\"middle\" x=\"89.01\" y=\"-200.32\" font-family=\"Times,serif\" font-size=\"14.00\">H</text>\n</g>\n<!-- H&#45;&gt;S -->\n<g id=\"edge3\" class=\"edge\">\n<title>H&#45;&gt;S</title>\n<path fill=\"none\" stroke=\"black\" d=\"M89.01,-185.75C89.01,-181 89.01,-175.76 89.01,-170.62\"/>\n<polygon fill=\"black\" stroke=\"black\" points=\"92.51,-170.36 89.01,-160.36 85.51,-170.36 92.51,-170.36\"/>\n</g>\n<!-- H&#45;&gt;V -->\n<g id=\"edge4\" class=\"edge\">\n<title>H&#45;&gt;V</title>\n<path fill=\"none\" stroke=\"black\" d=\"M74,-189.01C66.64,-181.65 57.63,-172.65 49.48,-164.49\"/>\n<polygon fill=\"black\" stroke=\"black\" points=\"51.85,-161.91 42.3,-157.31 46.9,-166.86 51.85,-161.91\"/>\n</g>\n<!-- O -->\n<g id=\"node5\" class=\"node\">\n<title>O</title>\n<ellipse fill=\"none\" stroke=\"black\" cx=\"89.01\" cy=\"-80.01\" rx=\"27\" ry=\"18\"/>\n<text text-anchor=\"middle\" x=\"89.01\" y=\"-76.31\" font-family=\"Times,serif\" font-size=\"14.00\">O</text>\n</g>\n<!-- S&#45;&gt;O -->\n<g id=\"edge5\" class=\"edge\">\n<title>S&#45;&gt;O</title>\n<path fill=\"none\" stroke=\"black\" d=\"M89.01,-123.74C89.01,-118.99 89.01,-113.76 89.01,-108.61\"/>\n<polygon fill=\"black\" stroke=\"black\" points=\"92.51,-108.36 89.01,-98.36 85.51,-108.36 92.51,-108.36\"/>\n</g>\n<!-- V&#45;&gt;O -->\n<g id=\"edge6\" class=\"edge\">\n<title>V&#45;&gt;O</title>\n<path fill=\"none\" stroke=\"black\" d=\"M42.01,-127C49.36,-119.65 58.37,-110.64 66.53,-102.49\"/>\n<polygon fill=\"black\" stroke=\"black\" points=\"69.11,-104.85 73.7,-95.31 64.16,-99.9 69.11,-104.85\"/>\n</g>\n<!-- C -->\n<g id=\"node8\" class=\"node\">\n<title>C</title>\n<ellipse fill=\"none\" stroke=\"black\" cx=\"27\" cy=\"-80.01\" rx=\"27\" ry=\"18\"/>\n<text text-anchor=\"middle\" x=\"27\" y=\"-76.31\" font-family=\"Times,serif\" font-size=\"14.00\">C</text>\n</g>\n<!-- V&#45;&gt;C -->\n<g id=\"edge7\" class=\"edge\">\n<title>V&#45;&gt;C</title>\n<path fill=\"none\" stroke=\"black\" d=\"M27,-123.74C27,-118.99 27,-113.76 27,-108.61\"/>\n<polygon fill=\"black\" stroke=\"black\" points=\"30.5,-108.36 27,-98.36 23.5,-108.36 30.5,-108.36\"/>\n</g>\n<!-- B -->\n<g id=\"node9\" class=\"node\">\n<title>B</title>\n<ellipse fill=\"none\" stroke=\"black\" cx=\"89.01\" cy=\"-18\" rx=\"27\" ry=\"18\"/>\n<text text-anchor=\"middle\" x=\"89.01\" y=\"-14.3\" font-family=\"Times,serif\" font-size=\"14.00\">B</text>\n</g>\n<!-- O&#45;&gt;B -->\n<g id=\"edge8\" class=\"edge\">\n<title>O&#45;&gt;B</title>\n<path fill=\"none\" stroke=\"black\" d=\"M89.01,-61.74C89.01,-56.99 89.01,-51.75 89.01,-46.61\"/>\n<polygon fill=\"black\" stroke=\"black\" points=\"92.51,-46.35 89.01,-36.35 85.51,-46.35 92.51,-46.35\"/>\n</g>\n<!-- A -->\n<g id=\"node6\" class=\"node\">\n<title>A</title>\n<ellipse fill=\"none\" stroke=\"black\" cx=\"151.01\" cy=\"-142.01\" rx=\"27\" ry=\"18\"/>\n<text text-anchor=\"middle\" x=\"151.01\" y=\"-138.31\" font-family=\"Times,serif\" font-size=\"14.00\">A</text>\n</g>\n<!-- T -->\n<g id=\"node7\" class=\"node\">\n<title>T</title>\n<ellipse fill=\"none\" stroke=\"black\" cx=\"151.01\" cy=\"-80.01\" rx=\"27\" ry=\"18\"/>\n<text text-anchor=\"middle\" x=\"151.01\" y=\"-76.31\" font-family=\"Times,serif\" font-size=\"14.00\">T</text>\n</g>\n<!-- A&#45;&gt;T -->\n<g id=\"edge9\" class=\"edge\">\n<title>A&#45;&gt;T</title>\n<path fill=\"none\" stroke=\"black\" d=\"M151.01,-123.74C151.01,-118.99 151.01,-113.76 151.01,-108.61\"/>\n<polygon fill=\"black\" stroke=\"black\" points=\"154.51,-108.36 151.01,-98.36 147.51,-108.36 154.51,-108.36\"/>\n</g>\n<!-- T&#45;&gt;B -->\n<g id=\"edge10\" class=\"edge\">\n<title>T&#45;&gt;B</title>\n<path fill=\"none\" stroke=\"black\" d=\"M136,-65C128.65,-57.64 119.64,-48.63 111.49,-40.48\"/>\n<polygon fill=\"black\" stroke=\"black\" points=\"113.85,-37.9 104.31,-33.3 108.9,-42.85 113.85,-37.9\"/>\n</g>\n</g>\n</svg>\n",
            "text/plain": [
              "<graphviz.graphs.Digraph at 0x11704c5b0>"
            ]
          },
          "execution_count": 7,
          "metadata": {},
          "output_type": "execute_result"
        }
      ],
      "source": [
        "pos = {\n",
        "    'L': '0,3!',\n",
        "    'H': '1,3!',\n",
        "    'S': '1,2!',\n",
        "    'V': '0,2!',\n",
        "    'A': '2,2!',\n",
        "    'O': '1,1!',\n",
        "    'C': '0,1!',\n",
        "    'T': '2,1!',\n",
        "    'B': '1,0!',\n",
        "}\n",
        "graph.show(positions=pos)"
      ]
    },
    {
      "cell_type": "markdown",
      "metadata": {
        "id": "h5xtXaxTmXB6"
      },
      "source": [
        "We will also need to declare a data structure with the possible outcomes for each variable."
      ]
    },
    {
      "cell_type": "code",
      "execution_count": 8,
      "metadata": {
        "id": "1Kr4q9IhmXB6"
      },
      "outputs": [],
      "source": [
        "# possible outcomes, by variable\n",
        "outcomeSpace = dict(\n",
        "    H=(0,1),\n",
        "    L=(0,1),\n",
        "    A=(0,1),\n",
        "    V=(0,1),\n",
        "    S=(0,1),\n",
        "    T=(0,1),\n",
        "    C=(0,1,2),\n",
        "    O=(0,1,2),\n",
        "    B=(0,1,2),\n",
        ")"
      ]
    },
    {
      "cell_type": "markdown",
      "metadata": {
        "id": "hIN1tgwzmXB7"
      },
      "source": [
        "Let's combine these two data structures to represent a Bayes net:"
      ]
    },
    {
      "cell_type": "code",
      "execution_count": 9,
      "metadata": {
        "id": "6CwmFKZimXB8"
      },
      "outputs": [],
      "source": [
        "class BayesNet():\n",
        "    def __init__(self, graph, outcomeSpace=None, factor_dict=None):\n",
        "        self.graph = graph\n",
        "        self.outcomeSpace = dict()\n",
        "        self.factors = dict()\n",
        "        if outcomeSpace is not None:\n",
        "            self.outcomeSpace = outcomeSpace\n",
        "        if factor_dict is not None:\n",
        "            self.factors = factor_dict\n",
        "        \n",
        "model = BayesNet(graph, outcomeSpace)"
      ]
    },
    {
      "cell_type": "markdown",
      "metadata": {
        "id": "8Bfwg3JimXB8"
      },
      "source": [
        "Note that we have also introduced a variable called `factors`. The purpose of this variable is to hold all the factors associated with the connections in this Bayes Net. We could use a list here, or a set, but since each factor represents the relationship between a child node and its parents, it is convenient to label the factors with the name of the child node. E.g. `self.factors['B']` would contain the probability distribution $P(B|O,T)$."
      ]
    },
    {
      "cell_type": "markdown",
      "metadata": {
        "id": "WWKAHbk5mXB9"
      },
      "source": [
        "# Estimating the probability tables from the data\n",
        "\n",
        "We need to estimate a discrete distribution\n",
        "for each (conditional) probability distribution."
      ]
    },
    {
      "cell_type": "markdown",
      "metadata": {
        "id": "oseKh-a_mXB9"
      },
      "source": [
        "Now we estimate parameters by constructing conditional distributions for each node in our graph.\n",
        "We will take the proportions of empirical counts as estimates of the probabilities of the counted outcomes, i.e.\n",
        "$$\n",
        "\\hat{p}(\\boldsymbol{X_i}=\\boldsymbol{x},\\boldsymbol{Y_i}=\\boldsymbol{y})=\\frac{N_{\\boldsymbol{x}, \\boldsymbol{y}}}{N},\n",
        "$$\n",
        "and\n",
        "$$\n",
        "\\hat{p}(\\boldsymbol{X_i}=\\boldsymbol{x}\\mid\\boldsymbol{Y_i}=\\boldsymbol{y})=\\frac{N_{\\boldsymbol{x}, \\boldsymbol{y}}}{N_\\boldsymbol{y}},\n",
        "$$\n",
        "\n",
        "where $N_{\\boldsymbol{x}, \\boldsymbol{y}}$ is the number of observations of that outcome,\n",
        "$$N_{\\boldsymbol{x}, \\boldsymbol{y}}:=\\sum_i\\boldsymbol{X_i}=\\boldsymbol{x}\\cap\\boldsymbol{Y_i}=\\boldsymbol{y},$$ and $N$ is the total number of observations.\n",
        "\n",
        "Later, we will see this procedure of estimating parameters corresponds to the Maximum Likelihood Estimate (MLE)."
      ]
    },
    {
      "cell_type": "markdown",
      "metadata": {
        "id": "F5Zx9YvimXB-"
      },
      "source": [
        "Below is another helper function. This will calculate joint occurrence probability tables.\n",
        "you invoke it like this\n",
        "```\n",
        "factor = estimateFactor(data, 'V', ['H', 'L'])\n",
        "```\n",
        "to estimate all conditional occurrence probabilities of $V|H,L$."
      ]
    },
    {
      "cell_type": "code",
      "execution_count": 11,
      "metadata": {
        "colab": {
          "base_uri": "https://localhost:8080/"
        },
        "id": "04b1DP6imXB_",
        "outputId": "2821512e-033f-4276-b20a-e91933e7cc8d"
      },
      "outputs": [
        {
          "name": "stdout",
          "output_type": "stream",
          "text": [
            "╒═════╤═════╤═════╤═══════════╕\n",
            "│   H │   L │   V │        Pr │\n",
            "╞═════╪═════╪═════╪═══════════╡\n",
            "│   0 │   0 │   0 │ 0.0447958 │\n",
            "├─────┼─────┼─────┼───────────┤\n",
            "│   0 │   0 │   1 │ 0.955204  │\n",
            "├─────┼─────┼─────┼───────────┤\n",
            "│   0 │   1 │   0 │ 0         │\n",
            "├─────┼─────┼─────┼───────────┤\n",
            "│   0 │   1 │   1 │ 1         │\n",
            "├─────┼─────┼─────┼───────────┤\n",
            "│   1 │   0 │   0 │ 0.994764  │\n",
            "├─────┼─────┼─────┼───────────┤\n",
            "│   1 │   0 │   1 │ 0.0052356 │\n",
            "├─────┼─────┼─────┼───────────┤\n",
            "│   1 │   1 │   0 │ 1         │\n",
            "├─────┼─────┼─────┼───────────┤\n",
            "│   1 │   1 │   1 │ 0         │\n",
            "╘═════╧═════╧═════╧═══════════╛\n",
            "\n"
          ]
        }
      ],
      "source": [
        "def allEqualThisIndex(dict_of_arrays, **fixed_vars):\n",
        "    \"\"\"\n",
        "    Helper function to create a boolean index vector into a tabular data structure,\n",
        "    such that we return True only for rows of the table where, e.g.\n",
        "    column_a=fixed_vars['column_a'] and column_b=fixed_vars['column_b'].\n",
        "    \n",
        "    This is a simple task, but it's not *quite* obvious\n",
        "    for various obscure technical reasons.\n",
        "    \n",
        "    It is perhaps best explained by an example.\n",
        "    \n",
        "    >>> all_equal_this_index(\n",
        "    ...    {'X': [1, 1, 0], Y: [1, 0, 1]},\n",
        "    ...    X=1,\n",
        "    ...    Y=1\n",
        "    ... )\n",
        "    [True, False, False]\n",
        "    \"\"\"\n",
        "    # base index is a boolean vector, everywhere true\n",
        "    first_array = dict_of_arrays[list(dict_of_arrays.keys())[0]]\n",
        "    index = np.ones_like(first_array, dtype=np.bool_)\n",
        "    for var_name, var_val in fixed_vars.items():\n",
        "        index = index & (np.asarray(dict_of_arrays[var_name])==var_val)\n",
        "    return index\n",
        "\n",
        "def estimateFactor(data, var_name, parent_names, outcomeSpace):\n",
        "    \"\"\"\n",
        "    Calculate a dictionary probability table by ML given\n",
        "    `data`, a dictionary or dataframe of observations\n",
        "    `var_name`, the column of the data to be used for the conditioned variable and\n",
        "    `parent_names`, a tuple of columns to be used for the parents and\n",
        "    `outcomeSpace`, a dict that maps variable names to a tuple of possible outcomes\n",
        "    Return a dictionary containing an estimated conditional probability table.\n",
        "    \"\"\"    \n",
        "    var_outcomes = outcomeSpace[var_name]\n",
        "    parent_outcomes = [outcomeSpace[var] for var in (parent_names)]\n",
        "    # cartesian product to generate a table of all possible outcomes\n",
        "    all_parent_combinations = product(*parent_outcomes)\n",
        "\n",
        "    f = Factor(list(parent_names)+[var_name], outcomeSpace)\n",
        "    \n",
        "    for i, parent_combination in enumerate(all_parent_combinations):\n",
        "        parent_vars = dict(zip(parent_names, parent_combination))\n",
        "        parent_index = allEqualThisIndex(data, **parent_vars)\n",
        "        for var_outcome in var_outcomes:\n",
        "            var_index = (np.asarray(data[var_name])==var_outcome)\n",
        "            f[tuple(list(parent_combination)+[var_outcome])] = (var_index & parent_index).sum()/parent_index.sum()\n",
        "            \n",
        "    return f\n",
        "\n",
        "\n",
        "##############################\n",
        "# Test code\n",
        "##############################\n",
        "print(estimateFactor(data, 'V', ['H', 'L'], outcomeSpace))"
      ]
    },
    {
      "cell_type": "markdown",
      "metadata": {
        "id": "WzafjSw0mXCA"
      },
      "source": [
        "Now, we will use the above function to calculate the probability tables for all 9 variables of the ICU Bayesian Network. \n",
        "\n",
        "However, notice that the `estimateFactor(data, var_name, parent_names, outcomeSpace)` requires the variable name (`var_name`) and the parent names (`parent_names`). We do not have this information readly available. The adjacency list provides the children of each node, not its parents.\n",
        "\n",
        "The question is, how can we invert the graph data structure so that each node will point to its parents? Yes, the answer is the graph transpose operation, implemented in Week 1 tutorial."
      ]
    },
    {
      "cell_type": "code",
      "execution_count": 12,
      "metadata": {
        "colab": {
          "base_uri": "https://localhost:8080/",
          "height": 328
        },
        "id": "ehLEvG7dmXCA",
        "outputId": "07a7be7c-9d3c-4d8d-a402-7128a02634fc"
      },
      "outputs": [
        {
          "data": {
            "image/svg+xml": "<?xml version=\"1.0\" encoding=\"UTF-8\" standalone=\"no\"?>\n<!DOCTYPE svg PUBLIC \"-//W3C//DTD SVG 1.1//EN\"\n \"http://www.w3.org/Graphics/SVG/1.1/DTD/svg11.dtd\">\n<!-- Generated by graphviz version 6.0.1 (20220911.1526)\n -->\n<!-- Pages: 1 -->\n<svg width=\"186pt\" height=\"230pt\"\n viewBox=\"0.00 0.00 186.01 230.02\" xmlns=\"http://www.w3.org/2000/svg\" xmlns:xlink=\"http://www.w3.org/1999/xlink\">\n<g id=\"graph0\" class=\"graph\" transform=\"scale(1 1) rotate(0) translate(4 226.02)\">\n<polygon fill=\"white\" stroke=\"none\" points=\"-4,4 -4,-226.02 182.01,-226.02 182.01,4 -4,4\"/>\n<!-- L -->\n<g id=\"node1\" class=\"node\">\n<title>L</title>\n<ellipse fill=\"none\" stroke=\"black\" cx=\"27\" cy=\"-204.02\" rx=\"27\" ry=\"18\"/>\n<text text-anchor=\"middle\" x=\"27\" y=\"-200.32\" font-family=\"Times,serif\" font-size=\"14.00\">L</text>\n</g>\n<!-- H -->\n<g id=\"node2\" class=\"node\">\n<title>H</title>\n<ellipse fill=\"none\" stroke=\"black\" cx=\"89.01\" cy=\"-204.02\" rx=\"27\" ry=\"18\"/>\n<text text-anchor=\"middle\" x=\"89.01\" y=\"-200.32\" font-family=\"Times,serif\" font-size=\"14.00\">H</text>\n</g>\n<!-- S -->\n<g id=\"node3\" class=\"node\">\n<title>S</title>\n<ellipse fill=\"none\" stroke=\"black\" cx=\"89.01\" cy=\"-142.01\" rx=\"27\" ry=\"18\"/>\n<text text-anchor=\"middle\" x=\"89.01\" y=\"-138.31\" font-family=\"Times,serif\" font-size=\"14.00\">S</text>\n</g>\n<!-- S&#45;&gt;L -->\n<g id=\"edge1\" class=\"edge\">\n<title>S&#45;&gt;L</title>\n<path fill=\"none\" stroke=\"black\" d=\"M74,-157.02C66.64,-164.38 57.63,-173.38 49.48,-181.54\"/>\n<polygon fill=\"black\" stroke=\"black\" points=\"46.9,-179.17 42.3,-188.72 51.85,-184.12 46.9,-179.17\"/>\n</g>\n<!-- S&#45;&gt;H -->\n<g id=\"edge2\" class=\"edge\">\n<title>S&#45;&gt;H</title>\n<path fill=\"none\" stroke=\"black\" d=\"M89.01,-160.28C89.01,-165.03 89.01,-170.27 89.01,-175.41\"/>\n<polygon fill=\"black\" stroke=\"black\" points=\"85.51,-175.67 89.01,-185.67 92.51,-175.67 85.51,-175.67\"/>\n</g>\n<!-- V -->\n<g id=\"node4\" class=\"node\">\n<title>V</title>\n<ellipse fill=\"none\" stroke=\"black\" cx=\"27\" cy=\"-142.01\" rx=\"27\" ry=\"18\"/>\n<text text-anchor=\"middle\" x=\"27\" y=\"-138.31\" font-family=\"Times,serif\" font-size=\"14.00\">V</text>\n</g>\n<!-- V&#45;&gt;L -->\n<g id=\"edge3\" class=\"edge\">\n<title>V&#45;&gt;L</title>\n<path fill=\"none\" stroke=\"black\" d=\"M27,-160.28C27,-165.03 27,-170.27 27,-175.41\"/>\n<polygon fill=\"black\" stroke=\"black\" points=\"23.5,-175.67 27,-185.67 30.5,-175.67 23.5,-175.67\"/>\n</g>\n<!-- V&#45;&gt;H -->\n<g id=\"edge4\" class=\"edge\">\n<title>V&#45;&gt;H</title>\n<path fill=\"none\" stroke=\"black\" d=\"M42.01,-157.02C49.36,-164.38 58.37,-173.38 66.53,-181.54\"/>\n<polygon fill=\"black\" stroke=\"black\" points=\"64.16,-184.12 73.7,-188.72 69.11,-179.17 64.16,-184.12\"/>\n</g>\n<!-- O -->\n<g id=\"node5\" class=\"node\">\n<title>O</title>\n<ellipse fill=\"none\" stroke=\"black\" cx=\"89.01\" cy=\"-80.01\" rx=\"27\" ry=\"18\"/>\n<text text-anchor=\"middle\" x=\"89.01\" y=\"-76.31\" font-family=\"Times,serif\" font-size=\"14.00\">O</text>\n</g>\n<!-- O&#45;&gt;S -->\n<g id=\"edge5\" class=\"edge\">\n<title>O&#45;&gt;S</title>\n<path fill=\"none\" stroke=\"black\" d=\"M89.01,-98.27C89.01,-103.03 89.01,-108.26 89.01,-113.41\"/>\n<polygon fill=\"black\" stroke=\"black\" points=\"85.51,-113.66 89.01,-123.66 92.51,-113.66 85.51,-113.66\"/>\n</g>\n<!-- O&#45;&gt;V -->\n<g id=\"edge6\" class=\"edge\">\n<title>O&#45;&gt;V</title>\n<path fill=\"none\" stroke=\"black\" d=\"M74,-95.02C66.64,-102.37 57.63,-111.38 49.48,-119.53\"/>\n<polygon fill=\"black\" stroke=\"black\" points=\"46.9,-117.16 42.3,-126.71 51.85,-122.11 46.9,-117.16\"/>\n</g>\n<!-- A -->\n<g id=\"node6\" class=\"node\">\n<title>A</title>\n<ellipse fill=\"none\" stroke=\"black\" cx=\"151.01\" cy=\"-142.01\" rx=\"27\" ry=\"18\"/>\n<text text-anchor=\"middle\" x=\"151.01\" y=\"-138.31\" font-family=\"Times,serif\" font-size=\"14.00\">A</text>\n</g>\n<!-- T -->\n<g id=\"node7\" class=\"node\">\n<title>T</title>\n<ellipse fill=\"none\" stroke=\"black\" cx=\"151.01\" cy=\"-80.01\" rx=\"27\" ry=\"18\"/>\n<text text-anchor=\"middle\" x=\"151.01\" y=\"-76.31\" font-family=\"Times,serif\" font-size=\"14.00\">T</text>\n</g>\n<!-- T&#45;&gt;A -->\n<g id=\"edge7\" class=\"edge\">\n<title>T&#45;&gt;A</title>\n<path fill=\"none\" stroke=\"black\" d=\"M151.01,-98.27C151.01,-103.03 151.01,-108.26 151.01,-113.41\"/>\n<polygon fill=\"black\" stroke=\"black\" points=\"147.51,-113.66 151.01,-123.66 154.51,-113.66 147.51,-113.66\"/>\n</g>\n<!-- C -->\n<g id=\"node8\" class=\"node\">\n<title>C</title>\n<ellipse fill=\"none\" stroke=\"black\" cx=\"27\" cy=\"-80.01\" rx=\"27\" ry=\"18\"/>\n<text text-anchor=\"middle\" x=\"27\" y=\"-76.31\" font-family=\"Times,serif\" font-size=\"14.00\">C</text>\n</g>\n<!-- C&#45;&gt;V -->\n<g id=\"edge8\" class=\"edge\">\n<title>C&#45;&gt;V</title>\n<path fill=\"none\" stroke=\"black\" d=\"M27,-98.27C27,-103.03 27,-108.26 27,-113.41\"/>\n<polygon fill=\"black\" stroke=\"black\" points=\"23.5,-113.66 27,-123.66 30.5,-113.66 23.5,-113.66\"/>\n</g>\n<!-- B -->\n<g id=\"node9\" class=\"node\">\n<title>B</title>\n<ellipse fill=\"none\" stroke=\"black\" cx=\"89.01\" cy=\"-18\" rx=\"27\" ry=\"18\"/>\n<text text-anchor=\"middle\" x=\"89.01\" y=\"-14.3\" font-family=\"Times,serif\" font-size=\"14.00\">B</text>\n</g>\n<!-- B&#45;&gt;O -->\n<g id=\"edge9\" class=\"edge\">\n<title>B&#45;&gt;O</title>\n<path fill=\"none\" stroke=\"black\" d=\"M89.01,-36.27C89.01,-41.02 89.01,-46.25 89.01,-51.4\"/>\n<polygon fill=\"black\" stroke=\"black\" points=\"85.51,-51.65 89.01,-61.65 92.51,-51.65 85.51,-51.65\"/>\n</g>\n<!-- B&#45;&gt;T -->\n<g id=\"edge10\" class=\"edge\">\n<title>B&#45;&gt;T</title>\n<path fill=\"none\" stroke=\"black\" d=\"M104.02,-33.01C111.37,-40.36 120.38,-49.37 128.53,-57.53\"/>\n<polygon fill=\"black\" stroke=\"black\" points=\"126.16,-60.11 135.71,-64.7 131.11,-55.16 126.16,-60.11\"/>\n</g>\n</g>\n</svg>\n",
            "text/plain": [
              "<graphviz.graphs.Digraph at 0x117388100>"
            ]
          },
          "execution_count": 12,
          "metadata": {},
          "output_type": "execute_result"
        }
      ],
      "source": [
        "graphT = graph.transpose()\n",
        "graphT.show(positions=pos)"
      ]
    },
    {
      "cell_type": "markdown",
      "metadata": {
        "id": "54q46HvDmXCB"
      },
      "source": [
        "### Exercise"
      ]
    },
    {
      "cell_type": "markdown",
      "metadata": {
        "id": "njOot8ORmXCB"
      },
      "source": [
        "Implement a method on the class BayesNet to learn each conditional factor. Since a Bayesian network contains factors over each variable, conditional on its parents, it's convienient to store each factor in a dictionary. The dictionary will associate each child variable name with a conditional factor: $\\phi(child | parents)$.\n",
        "\n",
        "Use the `estimateFactor(data, var_name, parent_names, outcomeSpace)` function to calculate probability tables for all 9 variables in our DAG (Bayesian network structure in the theory part of the tutorial)."
      ]
    },
    {
      "cell_type": "code",
      "execution_count": 18,
      "metadata": {
        "colab": {
          "base_uri": "https://localhost:8080/"
        },
        "id": "rBwNcnFvmXCB",
        "outputId": "3a0cc888-7d22-42dd-8b7d-f0ab8f19f328"
      },
      "outputs": [
        {
          "name": "stdout",
          "output_type": "stream",
          "text": [
            "estimated P(H)=\n",
            "╒═════╤═══════╕\n",
            "│   H │    Pr │\n",
            "╞═════╪═══════╡\n",
            "│   0 │ 0.801 │\n",
            "├─────┼───────┤\n",
            "│   1 │ 0.199 │\n",
            "╘═════╧═══════╛\n",
            "\n",
            "estimated P(V|H,L)=\n",
            "╒═════╤═════╤═════╤═══════════╕\n",
            "│   L │   H │   V │        Pr │\n",
            "╞═════╪═════╪═════╪═══════════╡\n",
            "│   0 │   0 │   0 │ 0.0447958 │\n",
            "├─────┼─────┼─────┼───────────┤\n",
            "│   0 │   0 │   1 │ 0.955204  │\n",
            "├─────┼─────┼─────┼───────────┤\n",
            "│   0 │   1 │   0 │ 0.994764  │\n",
            "├─────┼─────┼─────┼───────────┤\n",
            "│   0 │   1 │   1 │ 0.0052356 │\n",
            "├─────┼─────┼─────┼───────────┤\n",
            "│   1 │   0 │   0 │ 0         │\n",
            "├─────┼─────┼─────┼───────────┤\n",
            "│   1 │   0 │   1 │ 1         │\n",
            "├─────┼─────┼─────┼───────────┤\n",
            "│   1 │   1 │   0 │ 1         │\n",
            "├─────┼─────┼─────┼───────────┤\n",
            "│   1 │   1 │   1 │ 0         │\n",
            "╘═════╧═════╧═════╧═══════════╛\n",
            "\n"
          ]
        }
      ],
      "source": [
        "class BayesNet(BayesNet):\n",
        "    def learnParameters(self, data):\n",
        "        '''\n",
        "        Iterate over each node in the graph, and use the given data\n",
        "        to estimate the factor P(node|parents), then add the new factor \n",
        "        to the `self.factors` dictionary.\n",
        "        '''\n",
        "        graphT = self.graph.transpose()\n",
        "        for node, parents in graphT.adj_list.items():\n",
        "            # estimate each factor and add it to the `self.factors` dictionary\n",
        "            self.factors[node] = estimateFactor(data, node, parents, self.outcomeSpace)\n",
        "        \n",
        "            \n",
        "##############################\n",
        "# Test code\n",
        "##############################            \n",
        "model = BayesNet(graph, outcomeSpace)\n",
        "model.learnParameters(data)\n",
        "print('estimated P(H)=')\n",
        "print(model.factors['H'])\n",
        "print('estimated P(V|H,L)=')\n",
        "print(model.factors['V'])"
      ]
    },
    {
      "cell_type": "markdown",
      "metadata": {
        "id": "1i-fY8QmmXCC"
      },
      "source": [
        "If you implemented this code correctly, you should see an output like this:\n",
        "    \n",
        "```\n",
        "estimated P(H)=\n",
        "╒═════╤═══════╕\n",
        "│   H │    Pr │\n",
        "╞═════╪═══════╡\n",
        "│   0 │ 0.801 │\n",
        "├─────┼───────┤\n",
        "│   1 │ 0.199 │\n",
        "╘═════╧═══════╛\n",
        "\n",
        "estimated P(V|H,L)=\n",
        "╒═════╤═════╤═════╤═══════════╕\n",
        "│   L │   H │   V │        Pr │\n",
        "╞═════╪═════╪═════╪═══════════╡\n",
        "│   0 │   0 │   0 │ 0.0447958 │\n",
        "├─────┼─────┼─────┼───────────┤\n",
        "│   0 │   0 │   1 │ 0.955204  │\n",
        "├─────┼─────┼─────┼───────────┤\n",
        "│   0 │   1 │   0 │ 0.994764  │\n",
        "├─────┼─────┼─────┼───────────┤\n",
        "│   0 │   1 │   1 │ 0.0052356 │\n",
        "├─────┼─────┼─────┼───────────┤\n",
        "│   1 │   0 │   0 │ 0         │\n",
        "├─────┼─────┼─────┼───────────┤\n",
        "│   1 │   0 │   1 │ 1         │\n",
        "├─────┼─────┼─────┼───────────┤\n",
        "│   1 │   1 │   0 │ 1         │\n",
        "├─────┼─────┼─────┼───────────┤\n",
        "│   1 │   1 │   1 │ 0         │\n",
        "╘═════╧═════╧═════╧═══════════╛\n",
        "```"
      ]
    },
    {
      "cell_type": "markdown",
      "metadata": {
        "id": "FLjwkJwpmXCD"
      },
      "source": [
        "# Conditional probabilities by naïve summation\n",
        "\n",
        "We are interested in calculating the conditional distributions.\n",
        "For the moment we will attempt to find the conditional distribution\n",
        "$p(L\\mid C=\\text{high})$.\n",
        "\n",
        "We will compute $p(L\\mid C=\\text{high})$ by naïve summation.\n",
        "\n",
        "To do this, we will need to reconstruct each of the joint probabilities from our graph.\n",
        "Remember that we know that we know a factorization for the joint probabilities,\n",
        "specifically,\n",
        "\n",
        "$$p(B,T,O,C,V,S,H,L,A)=p(B\\mid O,T)p(T\\mid A)p(O\\mid V,S)p(C\\mid V)p(V\\mid H,L)p(S\\mid H,L)p(H)p(L)p(A)$$\n",
        "\n",
        "To calculate this, we will need the factor multiplication operation we implemented in the previous tutorial (Week 2). We called this operation a `factor join`. Recall how we use this method."
      ]
    },
    {
      "cell_type": "code",
      "execution_count": null,
      "metadata": {
        "colab": {
          "base_uri": "https://localhost:8080/"
        },
        "id": "wGxVuZDlmXCE",
        "outputId": "714525f9-d9f8-4b38-e83c-392a67836a05"
      },
      "outputs": [],
      "source": [
        "factor1 = model.factors['H']\n",
        "factor2 = model.factors['V']\n",
        "print(\"join p(V|H,L) and p(H):\")\n",
        "print(factor1.join(factor2))\n",
        "\n",
        "# Equivalently, we can do:\n",
        "# print(factor1*factor2)"
      ]
    },
    {
      "cell_type": "markdown",
      "metadata": {
        "id": "ysA9JY7umXCE"
      },
      "source": [
        "### Exercise\n",
        "\n",
        "Now, implement a function that calculates the full joint probability of the Bayesian network model by multiplying all conditional distributions estimated from data. "
      ]
    },
    {
      "cell_type": "code",
      "execution_count": null,
      "metadata": {
        "id": "hvUoYFu7ytPz"
      },
      "outputs": [],
      "source": [
        "model = BayesNet(graph, outcomeSpace)\n",
        "model.learnParameters(data)\n",
        "factor_list = list(model.factors.values())\n",
        "accumulator = factor_list[0]\n",
        "for factor in factor_list:\n",
        "#  print(factor)\n",
        "  accumulator = accumulator * factor\n",
        "# print(accumulator)\n",
        "\n"
      ]
    },
    {
      "cell_type": "code",
      "execution_count": null,
      "metadata": {
        "colab": {
          "base_uri": "https://localhost:8080/"
        },
        "id": "9BzoDTVqmXCE",
        "outputId": "e8d8e49a-efaa-4a65-8d6e-da0d5a555d6c"
      },
      "outputs": [],
      "source": [
        "class BayesNet(BayesNet):\n",
        "    def joint(self):\n",
        "        '''\n",
        "        Join every factor in the network, and return the resulting factor.\n",
        "        '''\n",
        "        factor_list = list(self.factors.values())\n",
        "        \n",
        "        accumulator = factor_list[0]\n",
        "        # TODO join every factor in the list (requires loop)\n",
        "        for factor in factor_list[1:]:\n",
        "\n",
        "          accumulator = accumulator * factor\n",
        "\n",
        "        \n",
        "        return accumulator\n",
        "    \n",
        "#########################\n",
        "# Test code\n",
        "#########################\n",
        "model = BayesNet(graph, outcomeSpace)\n",
        "model.learnParameters(data)\n",
        "p = model.joint()\n",
        "print(p)"
      ]
    },
    {
      "cell_type": "markdown",
      "metadata": {
        "id": "TMUf8xhvmXCF"
      },
      "source": [
        "The correct implementation should provide the following output. The columns may be in a different order, depending on the order that the factors were joined. At least you can compare the first row.\n",
        "\n",
        "Notice the size of this table as well as some very small probability values. We can realize how difficult it is to elicit such a probability table from a domain expert. It is much easier to work with smaller conditional tables.\n",
        "\n",
        "```\n",
        "╒═════╤═════╤═════╤═════╤═════╤═════╤═════╤═════╤═════╤═════════════╕\n",
        "│   L │   H │   S │   V │   O │   A │   T │   C │   B │          Pr │\n",
        "╞═════╪═════╪═════╪═════╪═════╪═════╪═════╪═════╪═════╪═════════════╡\n",
        "│   0 │   0 │   0 │   0 │   0 │   0 │   0 │   0 │   0 │ 0.000363366 │\n",
        "├─────┼─────┼─────┼─────┼─────┼─────┼─────┼─────┼─────┼─────────────┤\n",
        "│   0 │   0 │   0 │   0 │   0 │   0 │   0 │   0 │   1 │ 0           │\n",
        "├─────┼─────┼─────┼─────┼─────┼─────┼─────┼─────┼─────┼─────────────┤\n",
        "│   0 │   0 │   0 │   0 │   0 │   0 │   0 │   0 │   2 │ 0           │\n",
        "├─────┼─────┼─────┼─────┼─────┼─────┼─────┼─────┼─────┼─────────────┤\n",
        "│   0 │   0 │   0 │   0 │   0 │   0 │   0 │   1 │   0 │ 1.66682e-05 │\n",
        "├─────┼─────┼─────┼─────┼─────┼─────┼─────┼─────┼─────┼─────────────┤\n",
        "│   0 │   0 │   0 │   0 │   0 │   0 │   0 │   1 │   1 │ 0           │\n",
        "├─────┼─────┼─────┼─────┼─────┼─────┼─────┼─────┼─────┼─────────────┤\n",
        "│   0 │   0 │   0 │   0 │   0 │   0 │   0 │   1 │   2 │ 0           │\n",
        "├─────┼─────┼─────┼─────┼─────┼─────┼─────┼─────┼─────┼─────────────┤\n",
        "│   0 │   0 │   0 │   0 │   0 │   0 │   0 │   2 │   0 │ 6.66726e-06 │\n",
        "...\n",
        "```"
      ]
    },
    {
      "cell_type": "markdown",
      "metadata": {
        "id": "L1ylW5DKmXCG"
      },
      "source": [
        "# Answering Probabilistic Queries\n",
        "\n",
        "Given the joint distribution, we can answer any probabilistic queries we like. For instance, the query we posed before, $p(L\\mid C=\\text{high})$.\n",
        "\n",
        "We will need to eliminate variables through marginalization as well as observing evidence and renormalizing. We have implemented three functions to perform these tasks in Week 2 tutorial.\n",
        "\n",
        "See [this](https://stackoverflow.com/a/36908) stackoverflow answer for the various uses of ** and * for packing and unpacking arguments, as used below."
      ]
    },
    {
      "cell_type": "code",
      "execution_count": null,
      "metadata": {
        "id": "OVxNJTKkmXCG"
      },
      "outputs": [],
      "source": [
        "# Reminder of how to use evidence, marginalize, normalize\n",
        "\n",
        "# Create an empty factor ()\n",
        "f = Factor(['A','B','C'], {'A':[0,1], 'B':[0,1,2], 'C':[0,1]})\n",
        "\n",
        "# How to set evidence\n",
        "evidence_dict = {'A':1, 'B':2}\n",
        "f_with_evidence = f.evidence(**evidence_dict) \n",
        "\n",
        "# How to marginalize\n",
        "f_without_c = f.marginalize('C')\n",
        "\n",
        "# How to join 'f' and 'f_without_c'\n",
        "f_joined = f.join(f_without_c)"
      ]
    },
    {
      "cell_type": "markdown",
      "metadata": {
        "id": "U6LxlSKxmXCH"
      },
      "source": [
        "### Exercise\n",
        "\n",
        "Implement a method `query` that receives as arguments a list of variables and a list of evidence and returns $P(variables|evidence)$. "
      ]
    },
    {
      "cell_type": "code",
      "execution_count": null,
      "metadata": {
        "colab": {
          "base_uri": "https://localhost:8080/"
        },
        "id": "q-obLX4jmXCH",
        "outputId": "3a95c530-2c73-4efc-d837-3cd7fb3a55b5"
      },
      "outputs": [],
      "source": [
        "class BayesNet(BayesNet):\n",
        "    def query(self, q_vars, **q_evi):\n",
        "        \"\"\"\n",
        "        arguments \n",
        "        `q_vars`, list of variables in query head\n",
        "        `q_evi`, dictionary of evidence in the form of variables names and values\n",
        "\n",
        "        Returns a new NORMALIZED factor will all hidden variables eliminated as evidence set as in q_evi\n",
        "        \"\"\"     \n",
        "\n",
        "        # first we calculate the joint distribution\n",
        "        f = self.joint()\n",
        "        \n",
        "        # Next, we set the evidence \n",
        "        f = f.evidence(**q_evi)\n",
        "        # TODO\n",
        "\n",
        "        # Second, we eliminate hidden variables NOT in the query\n",
        "        remove_var = list(f.domain)\n",
        "        for var in q_vars:\n",
        "          remove_var.remove(var)\n",
        "\n",
        "        for var in remove_var:\n",
        "          f = f.marginalize(var)\n",
        "        # TODO\n",
        "        # Finally, we normalize, then return the factor\n",
        "        f = f.normalize()\n",
        "        return f\n",
        "        # TODO\n",
        "\n",
        "#########################\n",
        "# Test code\n",
        "#########################\n",
        "model = BayesNet(graph, outcomeSpace)\n",
        "model.learnParameters(data)\n",
        "         \n",
        "print(model.query('L', C=2))"
      ]
    },
    {
      "cell_type": "markdown",
      "metadata": {
        "id": "q1cumI_wmXCH"
      },
      "source": [
        "If your implementation is correct then you should see the following output:\n",
        "\n",
        "```\n",
        "╒═════╤═══════════╕\n",
        "│   L │        Pr │\n",
        "╞═════╪═══════════╡\n",
        "│   0 │ 0.947912  │\n",
        "├─────┼───────────┤\n",
        "│   1 │ 0.0520882 │\n",
        "╘═════╧═══════════╛\n",
        "```"
      ]
    },
    {
      "cell_type": "markdown",
      "metadata": {
        "id": "PwRoDFUYmXCI"
      },
      "source": [
        "# Conditional independence\n",
        "\n",
        "In this part, we will numerically estimate conditional independences."
      ]
    },
    {
      "cell_type": "markdown",
      "metadata": {
        "id": "sozYpOasmXCI"
      },
      "source": [
        "## Exercise\n",
        "Show or refute  the conditional independences in the theory tutorial numerically. i.e. \n",
        "determine whether\n",
        "\n",
        "1. $H \\indep L$\n",
        "2. $H \\indep A$\n",
        "3. $C \\indep L$\n",
        "\n",
        "We can do this by examining the conditional versus marginal probabilities, e.g. \n",
        "\n",
        "$$H \\indep L\\Rightarrow p(H,L)=p(H)p(L)$$\n",
        "\n",
        "Or,\n",
        "\n",
        "$$H \\indep L \\Rightarrow p(H|L)=p(H).$$\n",
        "\n",
        "It is your turn, we will leave three blank cells for you to develop your code. Use the functions we have implemented in the tutorials."
      ]
    },
    {
      "cell_type": "code",
      "execution_count": null,
      "metadata": {
        "colab": {
          "base_uri": "https://localhost:8080/"
        },
        "id": "gxjz7n61mXCI",
        "outputId": "1f4d9fdb-5754-4d13-d226-03c8ec21f685"
      },
      "outputs": [],
      "source": [
        "model = BayesNet(graph, outcomeSpace)\n",
        "model.learnParameters(data)\n",
        "\n",
        "mq_h = model.query('H')\n",
        "mq_l = model.query('L')\n",
        "mq_hl = model.query(['H', 'L'])\n",
        "prod_hl =  mq_l * mq_h\n",
        "print(mq_hl, prod_hl)"
      ]
    },
    {
      "cell_type": "code",
      "execution_count": null,
      "metadata": {
        "colab": {
          "base_uri": "https://localhost:8080/"
        },
        "id": "Zg83qEVvmXCJ",
        "outputId": "9a5a81cc-d9bc-4b76-84b1-0cad8ec1ec0b"
      },
      "outputs": [],
      "source": [
        "mq_a = model.query('A')\n",
        "mq_ha = model.query(['H', 'A'])\n",
        "prod_ha =   mq_h * mq_a\n",
        "print(mq_ha, prod_ha)"
      ]
    },
    {
      "cell_type": "code",
      "execution_count": null,
      "metadata": {
        "colab": {
          "base_uri": "https://localhost:8080/"
        },
        "id": "f7oWorSWmXCJ",
        "outputId": "fdf854cc-c9c9-4f8d-e5c5-0339742bb64e"
      },
      "outputs": [],
      "source": [
        "mq_c = model.query('C')\n",
        "mq_l = model.query('L')\n",
        "mq_cl = model.query(['C', 'L'])\n",
        "prod_cl =  mq_l * mq_c\n",
        "print(mq_cl, prod_cl)"
      ]
    },
    {
      "cell_type": "markdown",
      "metadata": {
        "id": "GBgDObmRmXCJ"
      },
      "source": [
        "## Final Task\n",
        "Create a python file called `BayesNet.py`, and copy the BayesNet class into this file (and the helper functions, and import statements). You will need this file for future tutorials."
      ]
    },
    {
      "cell_type": "code",
      "execution_count": null,
      "metadata": {
        "id": "6M5w8j-OmXCJ"
      },
      "outputs": [],
      "source": []
    }
  ],
  "metadata": {
    "colab": {
      "provenance": []
    },
    "kernelspec": {
      "display_name": "Python 3.10.6 64-bit",
      "language": "python",
      "name": "python3"
    },
    "language_info": {
      "codemirror_mode": {
        "name": "ipython",
        "version": 3
      },
      "file_extension": ".py",
      "mimetype": "text/x-python",
      "name": "python",
      "nbconvert_exporter": "python",
      "pygments_lexer": "ipython3",
      "version": "3.10.6"
    },
    "toc": {
      "colors": {
        "hover_highlight": "#DAA520",
        "navigate_num": "#000000",
        "navigate_text": "#333333",
        "running_highlight": "#FF0000",
        "selected_highlight": "#FFD700",
        "sidebar_border": "#EEEEEE",
        "wrapper_background": "#FFFFFF"
      },
      "moveMenuLeft": true,
      "nav_menu": {
        "height": "198px",
        "width": "252px"
      },
      "navigate_menu": true,
      "number_sections": true,
      "sideBar": true,
      "threshold": 4,
      "toc_cell": false,
      "toc_position": {
        "height": "783px",
        "left": "0px",
        "right": "1346.87px",
        "top": "108px",
        "width": "212px"
      },
      "toc_section_display": "block",
      "toc_window_display": true,
      "widenNotebook": false
    },
    "vscode": {
      "interpreter": {
        "hash": "aee8b7b246df8f9039afb4144a1f6fd8d2ca17a180786b69acc140d282b71a49"
      }
    }
  },
  "nbformat": 4,
  "nbformat_minor": 0
}
